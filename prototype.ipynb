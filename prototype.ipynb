{
 "cells": [
  {
   "cell_type": "code",
   "execution_count": 85,
   "id": "8fd0ea60",
   "metadata": {},
   "outputs": [],
   "source": [
    "import speech_recognition as sr #to translate speech to text\n",
    "import simpleaudio as sa\n",
    "from pydub import AudioSegment\n",
    "import pandas as pd\n",
    "import os"
   ]
  },
  {
   "cell_type": "raw",
   "id": "b0e5f300",
   "metadata": {},
   "source": [
    "“The SpeechRecognition\" library acts as a wrapper for several popular speech APIs and is thus extremely flexible. One of these — the Google Web Speech API — supports a default API key that is hard-coded into the SpeechRecognition library.”\n",
    "\n",
    "\"Googletrans\" is a free and unlimited python library that implemented Google Translate API. This uses the Google Translate Ajax API to make calls to such methods as detect and translate."
   ]
  },
  {
   "cell_type": "code",
   "execution_count": 93,
   "id": "56e20eb4",
   "metadata": {},
   "outputs": [
    {
     "name": "stdout",
     "output_type": "stream",
     "text": [
      "Say something!\n",
      "you said --> how are you?\n",
      "how_r_u.wav\n"
     ]
    }
   ],
   "source": [
    "### translate using Te-Aka sound files\n",
    "\n",
    "df=pd.read_csv('metadata.csv') # read the metadata\n",
    "folder_path = os.path.abspath('sound_files') # Set path to the audio files\n",
    "\n",
    "#get audio from the microphone\n",
    "r = sr.Recognizer()\n",
    "mic = sr.Microphone()\n",
    "\n",
    "with mic as source:\n",
    "    #r.adjust_for_ambient_noise(source)\n",
    "    print(\"Say something!\")\n",
    "    audio = r.listen(source)\n",
    "    \n",
    "# recognize speech using Google Speech Recognition\n",
    "try:\n",
    "    global m_transcipt\n",
    "    m_transcript=r.recognize_google(audio) ## to use API key-->r.recognize_google(audio, key=\"GOOGLE_SPEECH_RECOGNITION_API_KEY\")\n",
    "    print(\"you said --> \" + m_transcript + \"?\")\n",
    "except sr.UnknownValueError:\n",
    "    print(\"Could not understand audio\")\n",
    "except sr.RequestError as e:\n",
    "    print(\"Could not request results from Google Speech Recognition service; {0}\".format(e))\n",
    "\n",
    "    \n",
    "# check the recorded word in the dataframe and get the audio file for that word\n",
    "if m_transcript in df.values:\n",
    "    filename=df[df['Text']==m_transcript]['Filename'].values[0]\n",
    "    file_path = os.path.join(folder_path, filename)\n",
    "    print(filename)\n",
    "    wave_obj = sa.WaveObject.from_wave_file(file_path)\n",
    "    play_obj = wave_obj.play()\n",
    "    play_obj.wait_done()\n",
    "\n",
    "else:\n",
    "    print(\"Sorry! an audio file is not currently available for the requested word\")\n"
   ]
  },
  {
   "cell_type": "code",
   "execution_count": 94,
   "id": "0e7d3012",
   "metadata": {},
   "outputs": [
    {
     "name": "stdout",
     "output_type": "stream",
     "text": [
      "Say something!\n",
      "how are you\n",
      "Kei te pēhea koe?\n"
     ]
    }
   ],
   "source": [
    "### translate using PyPI package for googletrans \n",
    "\n",
    "#get audio from the microphone\n",
    "r = sr.Recognizer()\n",
    "mic = sr.Microphone()\n",
    "with mic as source:\n",
    "    #r.adjust_for_ambient_noise(source)\n",
    "    print(\"Say something!\")\n",
    "    audio = r.listen(source)\n",
    "    transcript = r.recognize_google(audio)\n",
    "    print(transcript)\n",
    "\n",
    "# using Googletrnas     \n",
    "from googletrans import Translator\n",
    "translator = Translator()\n",
    "translation = translator.translate(transcript, dest='mi')\n",
    "mtext=translation.text\n",
    "print(mtext)\n",
    "\n",
    "#get the laptop feature to voice the given text\n",
    "import subprocess\n",
    "def say(text):\n",
    "    subprocess.call(['say', text])\n",
    "say(mtext)\n"
   ]
  },
  {
   "cell_type": "code",
   "execution_count": null,
   "id": "227c44b0",
   "metadata": {},
   "outputs": [],
   "source": []
  }
 ],
 "metadata": {
  "kernelspec": {
   "display_name": "Python 3.9 (TeReo)",
   "language": "python",
   "name": "tereo-gpu"
  },
  "language_info": {
   "codemirror_mode": {
    "name": "ipython",
    "version": 3
   },
   "file_extension": ".py",
   "mimetype": "text/x-python",
   "name": "python",
   "nbconvert_exporter": "python",
   "pygments_lexer": "ipython3",
   "version": "3.9.7"
  }
 },
 "nbformat": 4,
 "nbformat_minor": 5
}

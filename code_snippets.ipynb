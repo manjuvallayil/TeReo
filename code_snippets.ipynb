{
 "cells": [
  {
   "cell_type": "markdown",
   "id": "7729ed0f",
   "metadata": {},
   "source": [
    "## Write recorded data to a file"
   ]
  },
  {
   "cell_type": "code",
   "execution_count": null,
   "id": "5c001039",
   "metadata": {},
   "outputs": [],
   "source": [
    "# write the recorded text to a file\n",
    "\n",
    "with open('test.txt',mode ='w') as file: \n",
    "   file.write(\"Recognized text:\") \n",
    "   file.write(\"\\n\") \n",
    "   file.write(result) \n",
    "   print(\"the file is ready!\")"
   ]
  },
  {
   "cell_type": "markdown",
   "id": "1f711371",
   "metadata": {},
   "source": [
    "## Convert mp3 file to wav then print as text"
   ]
  },
  {
   "cell_type": "code",
   "execution_count": 9,
   "id": "ffe96cb5",
   "metadata": {},
   "outputs": [
    {
     "name": "stdout",
     "output_type": "stream",
     "text": [
      "<class 'speech_recognition.AudioData'>\n",
      "Emily Dicker\n"
     ]
    }
   ],
   "source": [
    "import speech_recognition as sr\n",
    "from pydub import AudioSegment\n",
    "\n",
    "# convert mp3 file to wav then to text\n",
    "src=r'sound_files/hungry.mp3'\n",
    "dstn=r'sound_files/podcast.wav'\n",
    "sound = AudioSegment.from_mp3(src)\n",
    "sound.export(dstn, format=\"wav\")\n",
    "\n",
    "\n",
    "# use the audio file as the audio source  \n",
    "file_audio = sr.AudioFile(dstn)\n",
    "r = sr.Recognizer()\n",
    "with file_audio as source:\n",
    "    audio_text = r.record(source)\n",
    "    \n",
    "print(type(audio_text))\n",
    "print(r.recognize_google(audio_text))"
   ]
  },
  {
   "cell_type": "markdown",
   "id": "8d96991d",
   "metadata": {},
   "source": [
    "## Translate using \"google_trans_new\" package"
   ]
  },
  {
   "cell_type": "code",
   "execution_count": 6,
   "id": "69bf58ca",
   "metadata": {},
   "outputs": [
    {
     "name": "stdout",
     "output_type": "stream",
     "text": [
      "HE WHAKAMAHI \n"
     ]
    }
   ],
   "source": [
    "# using Google trnas new    \n",
    "from google_trans_new import google_translator  \n",
    "  \n",
    "translator = google_translator()  \n",
    "translate_text = translator.translate('welcome home', lang_src='en', lang_tgt='mi')  \n",
    "print(translate_text)"
   ]
  },
  {
   "cell_type": "code",
   "execution_count": null,
   "id": "db11cac3",
   "metadata": {},
   "outputs": [],
   "source": []
  }
 ],
 "metadata": {
  "kernelspec": {
   "display_name": "Python 3.9 (TeReo)",
   "language": "python",
   "name": "tereo-gpu"
  },
  "language_info": {
   "codemirror_mode": {
    "name": "ipython",
    "version": 3
   },
   "file_extension": ".py",
   "mimetype": "text/x-python",
   "name": "python",
   "nbconvert_exporter": "python",
   "pygments_lexer": "ipython3",
   "version": "3.9.7"
  }
 },
 "nbformat": 4,
 "nbformat_minor": 5
}

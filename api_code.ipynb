{
 "cells": [
  {
   "cell_type": "raw",
   "id": "31f234f4",
   "metadata": {},
   "source": [
    "Dependencies info:\n",
    "\n",
    "1. “The SpeechRecognition\" library acts as a wrapper for several popular speech APIs and is thus extremely flexible. One of these — the Google Web Speech API — supports a default API key that is hard-coded into the SpeechRecognition library.”\n",
    "\n",
    "\n",
    "2. \"Googletrans\" is a free and unlimited python library that implemented Google Translate API. This uses the Google Translate Ajax API to make calls to such methods as detect and translate. \n",
    "https://py-googletrans.readthedocs.io/en/latest/#\n",
    "https://pypi.org/project/googletrans/ \n",
    "    Note on this library usage:\n",
    "\n",
    "    *The maximum character limit on a single text is 15k.\n",
    "    *Due to limitations of the web version of google translate, this API does not guarantee that the library   would work properly at all times. (so please use this library if you don’t care about stability.)\n",
    "    *If you want to use a stable API, I highly recommend you to use Google’s official translate API.\n",
    "    *If you get HTTP 5xx error or errors like #6, it’s probably because Google has banned your client IP address.\n",
    "    \n",
    "3. \"Te Aka API\" Te Murumāra Foundation has given a 6 months free access to the API dated from 17/02/2022\n",
    "    Method used: search\n",
    "    HTTP Request Method: GET\n",
    "    URL: https://maoridictionary.co.nz/api/1.1/search\n",
    "    Example: https://maoridictionary.co.nz/api/1.1/search/?keywords=whanau&api_key=API_KEY"
   ]
  },
  {
   "cell_type": "code",
   "execution_count": 172,
   "id": "6d4209cd",
   "metadata": {},
   "outputs": [],
   "source": [
    "import speech_recognition as sr #to translate speech to text\n",
    "import simpleaudio as sa\n",
    "from pydub import AudioSegment\n",
    "import pandas as pd\n",
    "import os\n",
    "from selenium import webdriver  # pip install selenium\n",
    "from webdriver_manager.firefox import GeckoDriverManager\n",
    "import time"
   ]
  },
  {
   "cell_type": "code",
   "execution_count": 174,
   "id": "7f870857",
   "metadata": {},
   "outputs": [
    {
     "name": "stdout",
     "output_type": "stream",
     "text": [
      "Say something!\n",
      "how are you\n",
      "https://maoridictionary.co.nz/api/1.1/search/?keywords=how are you&api_key=HxD8fZsd2uJpWegc\n"
     ]
    },
    {
     "name": "stderr",
     "output_type": "stream",
     "text": [
      "\n",
      "\n",
      "====== WebDriver manager ======\n",
      "Current firefox version is 97.0\n",
      "Get LATEST geckodriver version for 97.0 firefox\n"
     ]
    },
    {
     "name": "stdout",
     "output_type": "stream",
     "text": [
      "How are you? - only used when speaking to one person. For two people use <i>k&#333;rua</i> instead of <i>koe</i>, and for three or more people use <i>koutou</i> instead of <i>koe</i>\n",
      "https://storage.googleapis.com/maori-dictionary-prod2-web-assets/public/11288.mp3\n"
     ]
    },
    {
     "name": "stderr",
     "output_type": "stream",
     "text": [
      "Driver [/Users/manjuvallayil/.wdm/drivers/geckodriver/macos-aarch64/v0.30.0/geckodriver] found in cache\n",
      "/var/folders/ts/975gflv16y9_wd421n6z6w8c0000gn/T/ipykernel_19020/1609366813.py:22: DeprecationWarning: executable_path has been deprecated, please pass in a Service object\n",
      "  driver = webdriver.Firefox(executable_path=GeckoDriverManager().install())\n"
     ]
    }
   ],
   "source": [
    "#get audio from the microphone\n",
    "r = sr.Recognizer()\n",
    "mic = sr.Microphone()\n",
    "with mic as source:\n",
    "    #r.adjust_for_ambient_noise(source)\n",
    "    print(\"Say something!\")\n",
    "    audio = r.listen(source)\n",
    "    transcript = r.recognize_google(audio)\n",
    "    print(transcript)\n",
    "    \n",
    "#construct the API request url with the input string\n",
    "api_url=\"https://maoridictionary.co.nz/api/1.1/search/?keywords={}\".format(transcript)+\"&api_key=HxD8fZsd2uJpWegc\"\n",
    "print(api_url)\n",
    "rsps_data = requests.get(api_url).json()\n",
    "data=rsps_data.get('data')\n",
    "audio=data[0]['audio']\n",
    "defenitions=(data[0]['definitions'])\n",
    "print(defenitions[0]['description'])\n",
    "print (audio)\n",
    "\n",
    "#play the sound file using WebDriver\n",
    "driver = webdriver.Firefox(executable_path=GeckoDriverManager().install())\n",
    "driver.get(audio)\n",
    "time.sleep(3)\n",
    "driver.quit()"
   ]
  },
  {
   "cell_type": "code",
   "execution_count": null,
   "id": "565b4e98",
   "metadata": {},
   "outputs": [],
   "source": []
  }
 ],
 "metadata": {
  "kernelspec": {
   "display_name": "Python 3.9 (TeReo)",
   "language": "python",
   "name": "tereo-gpu"
  },
  "language_info": {
   "codemirror_mode": {
    "name": "ipython",
    "version": 3
   },
   "file_extension": ".py",
   "mimetype": "text/x-python",
   "name": "python",
   "nbconvert_exporter": "python",
   "pygments_lexer": "ipython3",
   "version": "3.9.7"
  }
 },
 "nbformat": 4,
 "nbformat_minor": 5
}
